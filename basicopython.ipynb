{
  "nbformat": 4,
  "nbformat_minor": 0,
  "metadata": {
    "colab": {
      "name": "basicopython.ipynb",
      "provenance": [],
      "authorship_tag": "ABX9TyP194JQR5N28y5XwspT9dtD",
      "include_colab_link": true
    },
    "kernelspec": {
      "name": "python3",
      "display_name": "Python 3"
    },
    "language_info": {
      "name": "python"
    }
  },
  "cells": [
    {
      "cell_type": "markdown",
      "metadata": {
        "id": "view-in-github",
        "colab_type": "text"
      },
      "source": [
        "<a href=\"https://colab.research.google.com/github/viviane-de-souza/anhangueradados/blob/main/basicopython.ipynb\" target=\"_parent\"><img src=\"https://colab.research.google.com/assets/colab-badge.svg\" alt=\"Open In Colab\"/></a>"
      ]
    },
    {
      "cell_type": "code",
      "metadata": {
        "colab": {
          "base_uri": "https://localhost:8080/"
        },
        "id": "UIaDlnJlg5Jm",
        "outputId": "de701984-4a1f-47a9-ea17-6e8542796567"
      },
      "source": [
        "x = 10\n",
        "nome = 'aluno'\n",
        "nota = 8.75\n",
        "fez_inscricao = True\n",
        "print(type(x))\n",
        "print(type(nome))\n",
        "print(type(nota))\n",
        "print(type(fez_inscricao))"
      ],
      "execution_count": 1,
      "outputs": [
        {
          "output_type": "stream",
          "text": [
            "<class 'int'>\n",
            "<class 'str'>\n",
            "<class 'float'>\n",
            "<class 'bool'>\n"
          ],
          "name": "stdout"
        }
      ]
    }
  ]
}