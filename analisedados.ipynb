{
  "nbformat": 4,
  "nbformat_minor": 0,
  "metadata": {
    "colab": {
      "name": "analisedados.ipynb",
      "provenance": [],
      "collapsed_sections": [],
      "authorship_tag": "ABX9TyO8lG1Jnj+Pv2GKAYTjO/Jc",
      "include_colab_link": true
    },
    "kernelspec": {
      "name": "python3",
      "display_name": "Python 3"
    },
    "language_info": {
      "name": "python"
    }
  },
  "cells": [
    {
      "cell_type": "markdown",
      "metadata": {
        "id": "view-in-github",
        "colab_type": "text"
      },
      "source": [
        "<a href=\"https://colab.research.google.com/github/viviane-de-souza/anhangueradados/blob/main/analisedados.ipynb\" target=\"_parent\"><img src=\"https://colab.research.google.com/assets/colab-badge.svg\" alt=\"Open In Colab\"/></a>"
      ]
    },
    {
      "cell_type": "code",
      "metadata": {
        "id": "Nf-NhHVgSV_B"
      },
      "source": [
        "import pandas as pd"
      ],
      "execution_count": null,
      "outputs": []
    },
    {
      "cell_type": "code",
      "metadata": {
        "colab": {
          "base_uri": "https://localhost:8080/"
        },
        "id": "NpKp26AYSgK4",
        "outputId": "e60fceba-1744-4ba7-8d76-35dd638cf86d"
      },
      "source": [
        "pd.Series (data=5)"
      ],
      "execution_count": null,
      "outputs": [
        {
          "output_type": "execute_result",
          "data": {
            "text/plain": [
              "0    5\n",
              "dtype: int64"
            ]
          },
          "metadata": {
            "tags": []
          },
          "execution_count": 4
        }
      ]
    },
    {
      "cell_type": "code",
      "metadata": {
        "colab": {
          "base_uri": "https://localhost:8080/"
        },
        "id": "T0bxLHoUStDy",
        "outputId": "38f40ae4-48ce-4fa4-d506-2838e0314e09"
      },
      "source": [
        "lista_nomes = 'Carlos Eduardo Henrique Júlio Victor'.split()\n",
        "pd. Series (lista_nomes)"
      ],
      "execution_count": null,
      "outputs": [
        {
          "output_type": "execute_result",
          "data": {
            "text/plain": [
              "0      Carlos\n",
              "1     Eduardo\n",
              "2    Henrique\n",
              "3       Júlio\n",
              "4      Victor\n",
              "dtype: object"
            ]
          },
          "metadata": {
            "tags": []
          },
          "execution_count": 5
        }
      ]
    },
    {
      "cell_type": "code",
      "metadata": {
        "colab": {
          "base_uri": "https://localhost:8080/"
        },
        "id": "m9BeVnsLS-0F",
        "outputId": "acfce6bb-3256-4649-df13-fc774c303368"
      },
      "source": [
        "dados = {\n",
        "    'nome1':'Carlos',\n",
        "    'nome2':'Eduardo',\n",
        "    'nome3':'Henrique',\n",
        "    'nome4':'Júlio',\n",
        "    'nome5':'Victor',\n",
        "\n",
        "}\n",
        "pd.Series(dados)"
      ],
      "execution_count": null,
      "outputs": [
        {
          "output_type": "execute_result",
          "data": {
            "text/plain": [
              "nome1      Carlos\n",
              "nome2     Eduardo\n",
              "nome3    Henrique\n",
              "nome4       Júlio\n",
              "nome5      Victor\n",
              "dtype: object"
            ]
          },
          "metadata": {
            "tags": []
          },
          "execution_count": 8
        }
      ]
    }
  ]
}